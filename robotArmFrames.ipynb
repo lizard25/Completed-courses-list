{
  "cells": [
    {
      "cell_type": "markdown",
      "metadata": {
        "id": "view-in-github",
        "colab_type": "text"
      },
      "source": [
        "<a href=\"https://colab.research.google.com/github/lizard25/Completed-courses-list/blob/main/robotArmFrames.ipynb\" target=\"_parent\"><img src=\"https://colab.research.google.com/assets/colab-badge.svg\" alt=\"Open In Colab\"/></a>"
      ]
    },
    {
      "cell_type": "code",
      "execution_count": null,
      "id": "312fd7bf",
      "metadata": {
        "colab": {
          "base_uri": "https://localhost:8080/",
          "height": 35
        },
        "id": "312fd7bf",
        "outputId": "4e6a4d81-6c37-486d-c63f-da9340492481"
      },
      "outputs": [
        {
          "output_type": "execute_result",
          "data": {
            "text/plain": [
              "' Kinematic chain of a robot arm (planar)\\n    Assignment \\n'"
            ],
            "application/vnd.google.colaboratory.intrinsic+json": {
              "type": "string"
            }
          },
          "metadata": {},
          "execution_count": 1
        }
      ],
      "source": [
        "\"\"\" Kinematic chain of a robot arm (planar)\n",
        "    Assignment\n",
        "\"\"\""
      ]
    },
    {
      "cell_type": "markdown",
      "id": "ba6568e4",
      "metadata": {
        "id": "ba6568e4"
      },
      "source": [
        "\n",
        "![](https://github.com/eraldoribeiro/assignment_robotarm2D/blob/main/robotArm01.png?raw=1)\n",
        "*Figure 1*: A two-dimensional articulated arm. The articulated structure has 3 local coordinate frames each one centered at a joint. For each part, the local x-axis is aligned with the part.  \n",
        "\n",
        "Consider the arm structure shown in Figure 1. Assume the following values for the arm configuration:\n",
        "- The location of the first joint (i.e., the one that is attached to the ground support) is ${\\bf p}_1 = \\left(3,2\\right)^\\mathsf{T}$.\n",
        "- The lengths of the parts are $L_1 = 5$ and  $L_2 = 8$."
      ]
    },
    {
      "cell_type": "code",
      "execution_count": 2,
      "id": "2a4e0632",
      "metadata": {
        "id": "2a4e0632"
      },
      "outputs": [],
      "source": [
        "import numpy as np\n",
        "import math as mph"
      ]
    },
    {
      "cell_type": "code",
      "source": [
        "def makeTransformationMatrix(phi: float, translation:tuple):\n",
        "  return np.array([[np.cos(phi), -np.sin(phi), translation[0]],\n",
        "                   [np.sin(phi), np.cos(phi), translation[1]],\n",
        "                   [0,0,1]])\n",
        "print(makeTransformationMatrix(0,(0,0)))\n",
        "print(makeTransformationMatrix(45,(1,2)))"
      ],
      "metadata": {
        "colab": {
          "base_uri": "https://localhost:8080/"
        },
        "id": "r8pdxxsyNEAK",
        "outputId": "ce63f145-9fcd-4f4c-c46b-28e6f06839c2"
      },
      "id": "r8pdxxsyNEAK",
      "execution_count": 3,
      "outputs": [
        {
          "output_type": "stream",
          "name": "stdout",
          "text": [
            "[[ 1. -0.  0.]\n",
            " [ 0.  1.  0.]\n",
            " [ 0.  0.  1.]]\n",
            "[[ 0.52532199 -0.85090352  1.        ]\n",
            " [ 0.85090352  0.52532199  2.        ]\n",
            " [ 0.          0.          1.        ]]\n"
          ]
        }
      ]
    },
    {
      "cell_type": "markdown",
      "id": "0b27c659",
      "metadata": {
        "id": "0b27c659"
      },
      "source": [
        "### Question 1\n",
        "\n",
        "Write the matrices that represent the local coordinate frames $\\mathcal F\\{1\\}$, $\\mathcal F\\{2\\}$, and $\\mathcal F\\{3\\}$. These frames are indicated in green in Figure 1. The transformation matrices you need to write are $T_{0,1}$, $T_{1,2}$, and $T_{2,3}$."
      ]
    },
    {
      "cell_type": "code",
      "execution_count": 4,
      "id": "5ddc94ae",
      "metadata": {
        "id": "5ddc94ae",
        "colab": {
          "base_uri": "https://localhost:8080/"
        },
        "outputId": "2b6f335a-9761-4c95-84fb-f67989995fc7"
      },
      "outputs": [
        {
          "output_type": "stream",
          "name": "stdout",
          "text": [
            "[[ 0.92387953 -0.38268343  3.        ]\n",
            " [ 0.38268343  0.92387953  2.        ]\n",
            " [ 0.          0.          1.        ]]\n",
            "[[ 0.70710678 -0.70710678  5.        ]\n",
            " [ 0.70710678  0.70710678  0.        ]\n",
            " [ 0.          0.          1.        ]]\n",
            "[[ 1. -0.  8.]\n",
            " [ 0.  1.  0.]\n",
            " [ 0.  0.  1.]]\n"
          ]
        }
      ],
      "source": [
        "# Answer goes here. Add more code/markdown cells as needed\n",
        "L1 = 5\n",
        "L2 = 8\n",
        "phi1 = np.pi / 8\n",
        "phi2 = np.pi / 4\n",
        "phi3 = 0\n",
        "T01 = makeTransformationMatrix(phi1,(3,2))\n",
        "T12 = makeTransformationMatrix(phi2,(L1,0))\n",
        "T23 = makeTransformationMatrix(phi3,(L2,0))\n",
        "print(T01)\n",
        "print(T12)\n",
        "print(T23)"
      ]
    },
    {
      "cell_type": "markdown",
      "id": "08eafd4c",
      "metadata": {
        "id": "08eafd4c"
      },
      "source": [
        "### Question 2\n",
        "\n",
        "Write the matrices that represent each local frame w.r.t. the global frame $\\mathcal F\\{0\\}$. The transformations you need to write are $T_{0,1}$, $T_{0,2}$, and $T_{0,3}$."
      ]
    },
    {
      "cell_type": "code",
      "execution_count": 5,
      "id": "468d7a8a",
      "metadata": {
        "id": "468d7a8a",
        "colab": {
          "base_uri": "https://localhost:8080/"
        },
        "outputId": "671ccfdf-24f0-4b79-9262-2b416add6b03"
      },
      "outputs": [
        {
          "output_type": "stream",
          "name": "stdout",
          "text": [
            "[[ 0.92387953 -0.38268343  3.        ]\n",
            " [ 0.38268343  0.92387953  2.        ]\n",
            " [ 0.          0.          1.        ]]\n",
            "[[ 0.38268343 -0.92387953  7.61939766]\n",
            " [ 0.92387953  0.38268343  3.91341716]\n",
            " [ 0.          0.          1.        ]]\n",
            "[[ 0.38268343 -0.92387953 10.68086512]\n",
            " [ 0.92387953  0.38268343 11.30445342]\n",
            " [ 0.          0.          1.        ]]\n"
          ]
        }
      ],
      "source": [
        "# Answer goes here. Add more code/markdown cells as needed\n",
        "# T01 = makeTransformationMatrix(phi1,(3,2)) # included in last cell\n",
        "T02 = T01 @ T12\n",
        "T03 = T02 @ T23\n",
        "print(T01)\n",
        "print(T02)\n",
        "print(T03)\n",
        ""
      ]
    },
    {
      "cell_type": "markdown",
      "id": "dbfe60c7",
      "metadata": {
        "id": "dbfe60c7"
      },
      "source": [
        "### Question 3\n",
        "\n",
        "Write the matrices that represent the local coordinate frames $\\mathcal F\\{1\\}$, $\\mathcal F\\{2\\}$, and $\\mathcal F\\{3\\}$. These frames are indicated in green in Figure 1. The transformation matrices you need to write are $T_{0,1}$, $T_{1,2}$, and $T_{2,3}$."
      ]
    },
    {
      "cell_type": "code",
      "execution_count": 6,
      "id": "bb0c3c41",
      "metadata": {
        "id": "bb0c3c41",
        "colab": {
          "base_uri": "https://localhost:8080/"
        },
        "outputId": "9ac4dec8-e6dc-4a85-d0e5-ecb79a65fbc3"
      },
      "outputs": [
        {
          "output_type": "stream",
          "name": "stdout",
          "text": [
            "[[ 0.92387953 -0.38268343  3.        ]\n",
            " [ 0.38268343  0.92387953  2.        ]\n",
            " [ 0.          0.          1.        ]]\n",
            "[[ 0.70710678 -0.70710678  5.        ]\n",
            " [ 0.70710678  0.70710678  0.        ]\n",
            " [ 0.          0.          1.        ]]\n",
            "[[ 1. -0.  8.]\n",
            " [ 0.  1.  0.]\n",
            " [ 0.  0.  1.]]\n"
          ]
        }
      ],
      "source": [
        "# Answer goes here. Add more code/markdown cells as needed\n",
        "print(T01)\n",
        "print(T12)\n",
        "print(T23)\n",
        "\n"
      ]
    },
    {
      "cell_type": "markdown",
      "id": "80d5ab08",
      "metadata": {
        "id": "80d5ab08"
      },
      "source": [
        "### Question 4\n",
        "\n",
        "Using the transformations from the previous questions, calculate the global coordinates of the middle point of each part of the robot arm when $\\phi_1 = \\pi/8$ and $\\phi_2 = \\pi/4$. Hint: the location of the middle point of part 1 is $(\\frac{L_1}{2},0)^\\mathsf{T}$ (w.r.t. frame $\\mathcal F\\{1\\}$)."
      ]
    },
    {
      "cell_type": "code",
      "execution_count": 15,
      "id": "39fc9399",
      "metadata": {
        "id": "39fc9399",
        "colab": {
          "base_uri": "https://localhost:8080/"
        },
        "outputId": "5a9be26e-c691-409e-97f9-cc1218a77539"
      },
      "outputs": [
        {
          "output_type": "stream",
          "name": "stdout",
          "text": [
            "points:\n",
            " [3. 2. 1.]\n",
            "[7.61939766 3.91341716 1.        ]\n",
            "[10.68086512 11.30445342  1.        ]\n",
            "midpoints\n",
            " [5.30969883 2.95670858]\n",
            "[9.15013139 7.60893529]\n"
          ]
        }
      ],
      "source": [
        "# Answer goes here. Add more code/markdown cells as needed\n",
        "def midpoint(pa:np.array, pb:np.array):\n",
        "  return np.array([(pa[0]+pb[0])/2, (pa[1]+pb[1])/2])\n",
        "\n",
        "\n",
        "p0 = np.array([0,0,1])\n",
        "L1 = 5\n",
        "L2 = 8\n",
        "phi1 = np.pi / 8\n",
        "phi2 = np.pi / 4\n",
        "phi3 = 0\n",
        "\n",
        "p1 = T01 @ p0\n",
        "print(\"points:\\n\",p1)\n",
        "p2 = T02 @ p0\n",
        "print(p2)\n",
        "p3 = T03 @ p0\n",
        "print(p3)\n",
        "\n",
        "print(\"midpoints\\n\",midpoint(p1,p2))\n",
        "print(midpoint(p2,p3))"
      ]
    },
    {
      "cell_type": "markdown",
      "id": "7b1d733f",
      "metadata": {
        "id": "7b1d733f"
      },
      "source": [
        "### Question 5\n",
        "\n",
        "Using the transformations from the previous questions, calculate the global coordinates of all the joint points and the end-effector location when $\\phi_1 = \\pi/4$ and $\\phi_2 = \\pi/8$."
      ]
    },
    {
      "cell_type": "code",
      "execution_count": 16,
      "id": "817e8a81",
      "metadata": {
        "id": "817e8a81",
        "colab": {
          "base_uri": "https://localhost:8080/"
        },
        "outputId": "f6d23d52-f631-41b9-ab72-1629a1a243b8"
      },
      "outputs": [
        {
          "output_type": "stream",
          "name": "stdout",
          "text": [
            "points:\n",
            " [3. 2. 1.]\n",
            "[6.53553391 5.53553391 1.        ]\n",
            "[ 9.59700136 12.92657017  1.        ]\n"
          ]
        }
      ],
      "source": [
        "# Answer goes here. Add more code/markdown cells as needed\n",
        "L1 = 5\n",
        "L2 = 8\n",
        "phi1 = np.pi / 4\n",
        "phi2 = np.pi / 8\n",
        "phi3 = 0\n",
        "T01 = makeTransformationMatrix(phi1,(3,2))\n",
        "T12 = makeTransformationMatrix(phi2,(L1,0))\n",
        "T23 = makeTransformationMatrix(phi3,(L2,0))\n",
        "T02 = T01 @ T12\n",
        "T03 = T02 @ T23\n",
        "p1 = T01 @ p0\n",
        "print(\"points:\\n\",p1)\n",
        "p2 = T02 @ p0\n",
        "print(p2)\n",
        "p3 = T03 @ p0\n",
        "print(p3)\n"
      ]
    },
    {
      "cell_type": "markdown",
      "id": "66b1cac7",
      "metadata": {
        "id": "66b1cac7"
      },
      "source": [
        "### Question 6\n",
        "\n",
        "Write the matrix that represents the coordinate frame of the end effector w.r.t. frame  $\\mathcal F\\{1\\}$, i.e., $T_{1,3}$"
      ]
    },
    {
      "cell_type": "code",
      "execution_count": 17,
      "id": "cf5fb9dd",
      "metadata": {
        "id": "cf5fb9dd",
        "tags": [],
        "colab": {
          "base_uri": "https://localhost:8080/"
        },
        "outputId": "287c4ffd-82ee-4279-f9c1-200f6d73a6b3"
      },
      "outputs": [
        {
          "output_type": "stream",
          "name": "stdout",
          "text": [
            "[[ 0.92387953 -0.38268343 12.39103626]\n",
            " [ 0.38268343  0.92387953  3.06146746]\n",
            " [ 0.          0.          1.        ]]\n"
          ]
        }
      ],
      "source": [
        "# Answer goes here. Add more code/markdown cells as needed\n",
        "T13 = T12 @ T23\n",
        "print(T13)\n"
      ]
    },
    {
      "cell_type": "markdown",
      "id": "3a84cb79",
      "metadata": {
        "id": "3a84cb79"
      },
      "source": [
        "### Question 7\n",
        "\n",
        "Write the matrix that represents the coordinate frame $\\mathcal F\\{1\\}$ w.r.t. to the frame of the end effector"
      ]
    },
    {
      "cell_type": "code",
      "execution_count": 18,
      "id": "b39f8800",
      "metadata": {
        "id": "b39f8800",
        "colab": {
          "base_uri": "https://localhost:8080/"
        },
        "outputId": "27c9f457-00ef-44e1-fd7e-a6b02f0b0cd6"
      },
      "outputs": [
        {
          "output_type": "stream",
          "name": "stdout",
          "text": [
            "[[  0.92387953   0.38268343 -12.61939766]\n",
            " [ -0.38268343   0.92387953   1.91341716]\n",
            " [  0.           0.           1.        ]]\n"
          ]
        }
      ],
      "source": [
        "# Answer goes here. Add more code/markdown cells as needed\n",
        "T31 = np.linalg.inv(T13)\n",
        "print(T31)\n",
        "\n"
      ]
    }
  ],
  "metadata": {
    "colab": {
      "provenance": [],
      "include_colab_link": true
    },
    "kernelspec": {
      "display_name": "Python 3",
      "language": "python",
      "name": "python3"
    },
    "language_info": {
      "codemirror_mode": {
        "name": "ipython",
        "version": 3
      },
      "file_extension": ".py",
      "mimetype": "text/x-python",
      "name": "python",
      "nbconvert_exporter": "python",
      "pygments_lexer": "ipython3",
      "version": "3.9.2"
    }
  },
  "nbformat": 4,
  "nbformat_minor": 5
}