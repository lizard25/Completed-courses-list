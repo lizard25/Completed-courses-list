{
  "cells": [
    {
      "cell_type": "markdown",
      "metadata": {
        "id": "view-in-github",
        "colab_type": "text"
      },
      "source": [
        "<a href=\"https://colab.research.google.com/github/lizard25/Completed-courses-list/blob/main/robotArmFrames.ipynb\" target=\"_parent\"><img src=\"https://colab.research.google.com/assets/colab-badge.svg\" alt=\"Open In Colab\"/></a>"
      ]
    },
    {
      "cell_type": "code",
      "execution_count": null,
      "id": "312fd7bf",
      "metadata": {
        "colab": {
          "base_uri": "https://localhost:8080/",
          "height": 35
        },
        "id": "312fd7bf",
        "outputId": "4e6a4d81-6c37-486d-c63f-da9340492481"
      },
      "outputs": [
        {
          "output_type": "execute_result",
          "data": {
            "text/plain": [
              "' Kinematic chain of a robot arm (planar)\\n    Assignment \\n'"
            ],
            "application/vnd.google.colaboratory.intrinsic+json": {
              "type": "string"
            }
          },
          "metadata": {},
          "execution_count": 1
        }
      ],
      "source": [
        "\"\"\" Kinematic chain of a robot arm (planar)\n",
        "    Assignment\n",
        "\"\"\""
      ]
    },
    {
      "cell_type": "markdown",
      "id": "ba6568e4",
      "metadata": {
        "id": "ba6568e4"
      },
      "source": [
        "\n",
        "![](https://github.com/eraldoribeiro/assignment_robotarm2D/blob/main/robotArm01.png?raw=1)\n",
        "*Figure 1*: A two-dimensional articulated arm. The articulated structure has 3 local coordinate frames each one centered at a joint. For each part, the local x-axis is aligned with the part.  \n",
        "\n",
        "Consider the arm structure shown in Figure 1. Assume the following values for the arm configuration:\n",
        "- The location of the first joint (i.e., the one that is attached to the ground support) is ${\\bf p}_1 = \\left(3,2\\right)^\\mathsf{T}$.\n",
        "- The lengths of the parts are $L_1 = 5$ and  $L_2 = 8$."
      ]
    },
    {
      "cell_type": "code",
      "execution_count": 3,
      "id": "2a4e0632",
      "metadata": {
        "id": "2a4e0632"
      },
      "outputs": [],
      "source": [
        "import numpy as np\n",
        "import math as mph"
      ]
    },
    {
      "cell_type": "code",
      "source": [
        "def makeTransformationMatrix(phi: float, translation:tuple):\n",
        "  return np.array([[np.cos(phi), -np.sin(phi), translation[0]],\n",
        "                   [np.sin(phi), np.cos(phi), translation[1]],\n",
        "                   [0,0,1]])\n",
        "print(makeTransformationMatrix(0,(0,0)))\n",
        "print(makeTransformationMatrix(45,(1,2)))"
      ],
      "metadata": {
        "id": "r8pdxxsyNEAK",
        "outputId": "280e7201-7759-483e-aad1-f0f3bd8ce188",
        "colab": {
          "base_uri": "https://localhost:8080/"
        }
      },
      "id": "r8pdxxsyNEAK",
      "execution_count": 4,
      "outputs": [
        {
          "output_type": "stream",
          "name": "stdout",
          "text": [
            "[[ 1. -0.  0.]\n",
            " [ 0.  1.  0.]\n",
            " [ 0.  0.  1.]]\n",
            "[[ 0.52532199 -0.85090352  1.        ]\n",
            " [ 0.85090352  0.52532199  2.        ]\n",
            " [ 0.          0.          1.        ]]\n"
          ]
        }
      ]
    },
    {
      "cell_type": "markdown",
      "id": "0b27c659",
      "metadata": {
        "id": "0b27c659"
      },
      "source": [
        "### Question 1\n",
        "\n",
        "Write the matrices that represent the local coordinate frames $\\mathcal F\\{1\\}$, $\\mathcal F\\{2\\}$, and $\\mathcal F\\{3\\}$. These frames are indicated in green in Figure 1. The transformation matrices you need to write are $T_{0,1}$, $T_{1,2}$, and $T_{2,3}$."
      ]
    },
    {
      "cell_type": "code",
      "execution_count": 8,
      "id": "5ddc94ae",
      "metadata": {
        "id": "5ddc94ae",
        "outputId": "6cc3a319-184b-445b-ed8f-626cbb02fdb4",
        "colab": {
          "base_uri": "https://localhost:8080/"
        }
      },
      "outputs": [
        {
          "output_type": "stream",
          "name": "stdout",
          "text": [
            "[[ 0.92387953 -0.38268343  3.        ]\n",
            " [ 0.38268343  0.92387953  2.        ]\n",
            " [ 0.          0.          1.        ]]\n",
            "[[ 0.70710678 -0.70710678  5.        ]\n",
            " [ 0.70710678  0.70710678  0.        ]\n",
            " [ 0.          0.          1.        ]]\n",
            "[[ 1. -0.  8.]\n",
            " [ 0.  1.  0.]\n",
            " [ 0.  0.  1.]]\n"
          ]
        }
      ],
      "source": [
        "# Answer goes here. Add more code/markdown cells as needed\n",
        "L1 = 5\n",
        "L2 = 8\n",
        "phi1 = np.pi / 8\n",
        "phi2 = np.pi / 4\n",
        "phi3 = 0\n",
        "T01 = makeTransformationMatrix(phi1,(3,2))\n",
        "T12 = makeTransformationMatrix(phi2,(L1,0))\n",
        "T23 = makeTransformationMatrix(phi3,(L2,0))\n",
        "print(T01)\n",
        "print(T12)\n",
        "print(T23)"
      ]
    },
    {
      "cell_type": "markdown",
      "id": "08eafd4c",
      "metadata": {
        "id": "08eafd4c"
      },
      "source": [
        "### Question 2\n",
        "\n",
        "Write the matrices that represent each local frame w.r.t. the global frame $\\mathcal F\\{0\\}$. The transformations you need to write are $T_{0,1}$, $T_{0,2}$, and $T_{0,3}$."
      ]
    },
    {
      "cell_type": "code",
      "execution_count": 9,
      "id": "468d7a8a",
      "metadata": {
        "id": "468d7a8a",
        "outputId": "cc07601a-4c61-47a2-a5e0-ed12d4e388ae",
        "colab": {
          "base_uri": "https://localhost:8080/"
        }
      },
      "outputs": [
        {
          "output_type": "stream",
          "name": "stdout",
          "text": [
            "[[ 0.92387953 -0.38268343  3.        ]\n",
            " [ 0.38268343  0.92387953  2.        ]\n",
            " [ 0.          0.          1.        ]]\n",
            "[[ 0.38268343 -0.92387953  7.61939766]\n",
            " [ 0.92387953  0.38268343  3.91341716]\n",
            " [ 0.          0.          1.        ]]\n",
            "[[ 0.38268343 -0.92387953 10.68086512]\n",
            " [ 0.92387953  0.38268343 11.30445342]\n",
            " [ 0.          0.          1.        ]]\n"
          ]
        }
      ],
      "source": [
        "# Answer goes here. Add more code/markdown cells as needed\n",
        "# T01 = makeTransformationMatrix(phi1,(3,2)) # included in last cell\n",
        "T02 = T01 @ T12\n",
        "T03 = T02 @ T23\n",
        "print(T01)\n",
        "print(T02)\n",
        "print(T03)\n"
      ]
    },
    {
      "cell_type": "markdown",
      "id": "dbfe60c7",
      "metadata": {
        "id": "dbfe60c7"
      },
      "source": [
        "### Question 3\n",
        "\n",
        "Write the matrices that represent the local coordinate frames $\\mathcal F\\{1\\}$, $\\mathcal F\\{2\\}$, and $\\mathcal F\\{3\\}$. These frames are indicated in green in Figure 1. The transformation matrices you need to write are $T_{0,1}$, $T_{1,2}$, and $T_{2,3}$."
      ]
    },
    {
      "cell_type": "code",
      "execution_count": null,
      "id": "bb0c3c41",
      "metadata": {
        "id": "bb0c3c41"
      },
      "outputs": [],
      "source": [
        "# Answer goes here. Add more code/markdown cells as needed\n",
        "\n",
        "\n"
      ]
    },
    {
      "cell_type": "markdown",
      "id": "80d5ab08",
      "metadata": {
        "id": "80d5ab08"
      },
      "source": [
        "### Question 4\n",
        "\n",
        "Using the transformations from the previous questions, calculate the global coordinates of the middle point of each part of the robot arm when $\\phi_1 = \\pi/8$ and $\\phi_2 = \\pi/4$. Hint: the location of the middle point of part 1 is $(\\frac{L_1}{2},0)^\\mathsf{T}$ (w.r.t. frame $\\mathcal F\\{1\\}$)."
      ]
    },
    {
      "cell_type": "code",
      "execution_count": null,
      "id": "39fc9399",
      "metadata": {
        "id": "39fc9399"
      },
      "outputs": [],
      "source": [
        "# Answer goes here. Add more code/markdown cells as needed\n",
        "\n",
        "\n",
        "\n",
        "\n"
      ]
    },
    {
      "cell_type": "markdown",
      "id": "7b1d733f",
      "metadata": {
        "id": "7b1d733f"
      },
      "source": [
        "### Question 5\n",
        "\n",
        "Using the transformations from the previous questions, calculate the global coordinates of all the joint points and the end-effector location when $\\phi_1 = \\pi/4$ and $\\phi_2 = \\pi/8$."
      ]
    },
    {
      "cell_type": "code",
      "execution_count": null,
      "id": "817e8a81",
      "metadata": {
        "id": "817e8a81"
      },
      "outputs": [],
      "source": [
        "# Answer goes here. Add more code/markdown cells as needed\n",
        "\n",
        "\n",
        "\n"
      ]
    },
    {
      "cell_type": "markdown",
      "id": "66b1cac7",
      "metadata": {
        "id": "66b1cac7"
      },
      "source": [
        "### Question 6\n",
        "\n",
        "Write the matrix that represents the coordinate frame of the end effector w.r.t. frame  $\\mathcal F\\{1\\}$, i.e., $T_{1,3}$"
      ]
    },
    {
      "cell_type": "code",
      "execution_count": null,
      "id": "cf5fb9dd",
      "metadata": {
        "id": "cf5fb9dd",
        "tags": []
      },
      "outputs": [],
      "source": [
        "# Answer goes here. Add more code/markdown cells as needed\n",
        "\n",
        "\n"
      ]
    },
    {
      "cell_type": "markdown",
      "id": "3a84cb79",
      "metadata": {
        "id": "3a84cb79"
      },
      "source": [
        "### Question 7\n",
        "\n",
        "Write the matrix that represents the coordinate frame $\\mathcal F\\{1\\}$ w.r.t. to the frame of the end effector"
      ]
    },
    {
      "cell_type": "code",
      "execution_count": null,
      "id": "b39f8800",
      "metadata": {
        "id": "b39f8800"
      },
      "outputs": [],
      "source": [
        "# Answer goes here. Add more code/markdown cells as needed\n",
        "\n",
        "\n"
      ]
    }
  ],
  "metadata": {
    "colab": {
      "provenance": [],
      "include_colab_link": true
    },
    "kernelspec": {
      "display_name": "Python 3",
      "language": "python",
      "name": "python3"
    },
    "language_info": {
      "codemirror_mode": {
        "name": "ipython",
        "version": 3
      },
      "file_extension": ".py",
      "mimetype": "text/x-python",
      "name": "python",
      "nbconvert_exporter": "python",
      "pygments_lexer": "ipython3",
      "version": "3.9.2"
    }
  },
  "nbformat": 4,
  "nbformat_minor": 5
}